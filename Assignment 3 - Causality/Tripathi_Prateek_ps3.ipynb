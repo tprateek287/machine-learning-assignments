{
 "cells": [
  {
   "cell_type": "markdown",
   "metadata": {
    "ein.tags": "worksheet-0",
    "slideshow": {
     "slide_type": "-"
    }
   },
   "source": [
    "# Problem Set 3, due Wednesday, May 3rd, 5:30pm."
   ]
  },
  {
   "cell_type": "markdown",
   "metadata": {
    "ein.tags": "worksheet-0",
    "slideshow": {
     "slide_type": "-"
    }
   },
   "source": [
    "## Introduction to the assignment\n",
    "\n",
    "For this assignment, you will be using data from the [Progresa\n",
    "program](http://en.wikipedia.org/wiki/Oportunidades), a government\n",
    "social assistance program in Mexico. This program, as well as the\n",
    "details of its impact, are described in the paper \"[School subsidies\n",
    "for the poor: evaluating the Mexican Progresa poverty\n",
    "program](http://www.sciencedirect.com/science/article/pii/S0304387803001858)\",\n",
    "by Paul Shultz (available on Canvas).  The data\n",
    "(progresa_sample.csv.gz) is available on canvas\n",
    "in files/data.\n",
    "\n",
    "Please read the paper to familiarize yourself with\n",
    "the PROGRESA program before beginning this problem set, so you have a\n",
    "rough sense of where the data come from and how they were\n",
    "generated. If you just proceed into the problem set without\n",
    "understanding Progresa or the data, it will be very difficult!\n",
    "\n",
    "The goal of this problem set is to implement some of the basic\n",
    "econometric techniques that you are learning in class to measure the\n",
    "impact of Progresa on secondary school enrollment rates, in particular\n",
    "differences-in-differences.  Your task is to **estimate the impact of\n",
    "_progresa_ subsidies on the school attendance**.  Note: this asks to\n",
    "estimate a causal effect.\n",
    "\n",
    "The timeline of the program was:\n",
    "\n",
    " * Baseline survey conducted in 1997\n",
    " * Intervention begins in 1998, \"Wave 1\" of data collected in 1998\n",
    " * \"Wave 2 of data\" collected in 1999\n",
    " * Evaluation ends in 2000, at which point the control villages were treated. \n",
    " \n",
    "When you are ready, download the progresa_sample.csv data from\n",
    "Canvas. The data are actual data collected to evaluate the impact of\n",
    "the Progresa program.  In this file, each row corresponds to an\n",
    "observation taken for a given child for a given year. There are two\n",
    "years of data (1997 and 1998), and just under 40,000 children who are\n",
    "surveyed in both years.  For each child-year observation, the\n",
    "following variables are collected:\n",
    "\n",
    "| Variable name | Description|\n",
    "|------|------|\n",
    "|year\t  |year in which data is collected\n",
    "|sex\t  |male = 1|\n",
    "|indig\t  |indigenous = 1|\n",
    "|dist_sec |nearest distance to a secondary school|\n",
    "|sc\t      |enrolled in school in year of survey (=1)|\n",
    "|grc      |grade enrolled|\n",
    "|fam_n    |family size|\n",
    "|min_dist |\tmin distance to an urban center|\n",
    "|dist_cap |\tmin distance to the capital|\n",
    "|poor     |\tpoor = \"pobre\", not poor = \"no pobre\"|\n",
    "|progresa |treatment = \"basal\", control = \"0\"|\n",
    "|hohedu\t  |years of schooling of head of household|\n",
    "|hohwag\t  |monthly wages of head of household|\n",
    "|welfare_index|\twelfare index used to classify poor|\n",
    "|hohsex\t|gender of head of household (male=1)|\n",
    "|hohage\t|age of head of household|\n",
    "|age\t|years old|\n",
    "|folnum\t|individual id|\n",
    "|village|\tvillage id|\n",
    "|sc97\t|enrolled in school in 1997 (=1) |"
   ]
  },
  {
   "cell_type": "markdown",
   "metadata": {
    "ein.tags": "worksheet-0",
    "slideshow": {
     "slide_type": "-"
    }
   },
   "source": [
    "## Part 1: Descriptive analysis\n",
    "\n",
    "### 1.1\tSummary Statistics\n",
    "\n",
    "Report summary statistics (mean, standard deviation, and number of missings) for all of\n",
    "the demographic variables in the dataset (i.e., everything except\n",
    "year, folnum, village).  Present the actual levels for 'progresa' and\n",
    "'poor'.  Do these fit with the documentation above?\n",
    "\n",
    "Present these in a single table alphabetized\n",
    "by variable name. Do NOT simply expect the grader to scroll through\n",
    "your output!"
   ]
  },
  {
   "cell_type": "code",
   "execution_count": 1,
   "metadata": {
    "autoscroll": false,
    "ein.tags": "worksheet-0",
    "slideshow": {
     "slide_type": "-"
    }
   },
   "outputs": [
    {
     "name": "stdout",
     "output_type": "stream",
     "text": [
      "Summary Statistics - Report:\n",
      "\n"
     ]
    },
    {
     "data": {
      "text/html": [
       "<div>\n",
       "<style scoped>\n",
       "    .dataframe tbody tr th:only-of-type {\n",
       "        vertical-align: middle;\n",
       "    }\n",
       "\n",
       "    .dataframe tbody tr th {\n",
       "        vertical-align: top;\n",
       "    }\n",
       "\n",
       "    .dataframe thead th {\n",
       "        text-align: right;\n",
       "    }\n",
       "</style>\n",
       "<table border=\"1\" class=\"dataframe\">\n",
       "  <thead>\n",
       "    <tr style=\"text-align: right;\">\n",
       "      <th></th>\n",
       "      <th>Mean</th>\n",
       "      <th>Standard Deviation</th>\n",
       "      <th>Count of Nulls</th>\n",
       "    </tr>\n",
       "  </thead>\n",
       "  <tbody>\n",
       "    <tr>\n",
       "      <th>age</th>\n",
       "      <td>11.366460</td>\n",
       "      <td>3.167744</td>\n",
       "      <td>0</td>\n",
       "    </tr>\n",
       "    <tr>\n",
       "      <th>dist_cap</th>\n",
       "      <td>147.674452</td>\n",
       "      <td>76.063134</td>\n",
       "      <td>0</td>\n",
       "    </tr>\n",
       "    <tr>\n",
       "      <th>dist_sec</th>\n",
       "      <td>2.418910</td>\n",
       "      <td>2.234109</td>\n",
       "      <td>0</td>\n",
       "    </tr>\n",
       "    <tr>\n",
       "      <th>fam_n</th>\n",
       "      <td>7.215715</td>\n",
       "      <td>2.352900</td>\n",
       "      <td>0</td>\n",
       "    </tr>\n",
       "    <tr>\n",
       "      <th>grc</th>\n",
       "      <td>3.963537</td>\n",
       "      <td>2.499063</td>\n",
       "      <td>6549</td>\n",
       "    </tr>\n",
       "    <tr>\n",
       "      <th>grc97</th>\n",
       "      <td>3.705372</td>\n",
       "      <td>2.572387</td>\n",
       "      <td>0</td>\n",
       "    </tr>\n",
       "    <tr>\n",
       "      <th>hohage</th>\n",
       "      <td>44.436717</td>\n",
       "      <td>11.620372</td>\n",
       "      <td>10</td>\n",
       "    </tr>\n",
       "    <tr>\n",
       "      <th>hohedu</th>\n",
       "      <td>2.768104</td>\n",
       "      <td>2.656106</td>\n",
       "      <td>0</td>\n",
       "    </tr>\n",
       "    <tr>\n",
       "      <th>hohsex</th>\n",
       "      <td>0.925185</td>\n",
       "      <td>0.263095</td>\n",
       "      <td>20</td>\n",
       "    </tr>\n",
       "    <tr>\n",
       "      <th>hohwag</th>\n",
       "      <td>586.985312</td>\n",
       "      <td>788.133664</td>\n",
       "      <td>0</td>\n",
       "    </tr>\n",
       "    <tr>\n",
       "      <th>indig</th>\n",
       "      <td>0.298324</td>\n",
       "      <td>0.457525</td>\n",
       "      <td>300</td>\n",
       "    </tr>\n",
       "    <tr>\n",
       "      <th>min_dist</th>\n",
       "      <td>103.447520</td>\n",
       "      <td>42.089441</td>\n",
       "      <td>0</td>\n",
       "    </tr>\n",
       "    <tr>\n",
       "      <th>poor</th>\n",
       "      <td>NaN</td>\n",
       "      <td>NaN</td>\n",
       "      <td>0</td>\n",
       "    </tr>\n",
       "    <tr>\n",
       "      <th>progresa</th>\n",
       "      <td>NaN</td>\n",
       "      <td>NaN</td>\n",
       "      <td>0</td>\n",
       "    </tr>\n",
       "    <tr>\n",
       "      <th>sc</th>\n",
       "      <td>0.819818</td>\n",
       "      <td>0.384342</td>\n",
       "      <td>8453</td>\n",
       "    </tr>\n",
       "    <tr>\n",
       "      <th>sc97</th>\n",
       "      <td>0.813922</td>\n",
       "      <td>0.389172</td>\n",
       "      <td>3872</td>\n",
       "    </tr>\n",
       "    <tr>\n",
       "      <th>sex</th>\n",
       "      <td>0.512211</td>\n",
       "      <td>0.499854</td>\n",
       "      <td>24</td>\n",
       "    </tr>\n",
       "    <tr>\n",
       "      <th>welfare_index</th>\n",
       "      <td>690.346564</td>\n",
       "      <td>139.491130</td>\n",
       "      <td>210</td>\n",
       "    </tr>\n",
       "  </tbody>\n",
       "</table>\n",
       "</div>"
      ],
      "text/plain": [
       "                     Mean  Standard Deviation  Count of Nulls\n",
       "age             11.366460            3.167744               0\n",
       "dist_cap       147.674452           76.063134               0\n",
       "dist_sec         2.418910            2.234109               0\n",
       "fam_n            7.215715            2.352900               0\n",
       "grc              3.963537            2.499063            6549\n",
       "grc97            3.705372            2.572387               0\n",
       "hohage          44.436717           11.620372              10\n",
       "hohedu           2.768104            2.656106               0\n",
       "hohsex           0.925185            0.263095              20\n",
       "hohwag         586.985312          788.133664               0\n",
       "indig            0.298324            0.457525             300\n",
       "min_dist       103.447520           42.089441               0\n",
       "poor                  NaN                 NaN               0\n",
       "progresa              NaN                 NaN               0\n",
       "sc               0.819818            0.384342            8453\n",
       "sc97             0.813922            0.389172            3872\n",
       "sex              0.512211            0.499854              24\n",
       "welfare_index  690.346564          139.491130             210"
      ]
     },
     "execution_count": 1,
     "metadata": {},
     "output_type": "execute_result"
    }
   ],
   "source": [
    "# Import pandas module\n",
    "import pandas as pd\n",
    "\n",
    "# Import 'progresa' data\n",
    "data_progresa = pd.read_csv('progresa_sample.csv.gz')\n",
    "\n",
    "# Calculate the summary statistics\n",
    "print(\"Summary Statistics - Report:\\n\")\n",
    "data_mean = data_progresa.drop(['year', 'folnum', 'village'], axis = 1).mean().to_frame(name = 'Mean')\n",
    "data_std = data_progresa.drop(['year', 'folnum', 'village'], axis = 1).std().to_frame(name = 'Standard Deviation')\n",
    "data_isnull = data_progresa.drop(['year', 'folnum', 'village'], axis = 1).isnull().sum().to_frame(name = 'Count of Nulls')\n",
    "\n",
    "# Concatenate the three summary statistics: (mean, standard deviation, and number of missings)\n",
    "pd.concat([data_mean, data_std, data_isnull], axis = 1)"
   ]
  },
  {
   "cell_type": "code",
   "execution_count": 2,
   "metadata": {},
   "outputs": [
    {
     "name": "stdout",
     "output_type": "stream",
     "text": [
      "'progresa' Levels:\n",
      "\n",
      "          Count\n",
      "progresa       \n",
      "0         29690\n",
      "basal     47560\n",
      "\n",
      "'progresa' Levels (%):\n",
      "\n",
      "0 \t 38.43\n",
      "basal \t 61.57\n",
      "\n",
      "'poor' Levels:\n",
      "\n",
      "          Count\n",
      "poor           \n",
      "no pobre  11858\n",
      "pobre     65392\n",
      "\n",
      "'poor' Levels (%):\n",
      "\n",
      "no pobre  15.35\n",
      "pobre     84.65\n"
     ]
    }
   ],
   "source": [
    "# Print the 'progresa' levels\n",
    "print(\"'progresa' Levels:\\n\")\n",
    "print(data_progresa.groupby('progresa')['progresa'].count().to_frame(name = 'Count'))\n",
    "\n",
    "# Print the % of 'progresa' levels\n",
    "print(\"\\n'progresa' Levels (%):\\n\")\n",
    "print(\"0 \\t\", round(data_progresa.groupby('progresa')['progresa'].count()['0'] / data_progresa['progresa'].count() * 100, 2))\n",
    "print(\"basal \\t\", round(data_progresa.groupby('progresa')['progresa'].count()['basal'] / data_progresa['progresa'].count() * 100, 2))\n",
    "\n",
    "# Print the 'poor' levels\n",
    "print(\"\\n'poor' Levels:\\n\")\n",
    "print(data_progresa.groupby('poor')['poor'].count().to_frame(name = 'Count'))\n",
    "\n",
    "# Print the % of 'poor' levels\n",
    "print(\"\\n'poor' Levels (%):\\n\")\n",
    "print(\"no pobre \", round(data_progresa.groupby('poor')['poor'].count()['no pobre'] / data_progresa['poor'].count() * 100, 2))\n",
    "print(\"pobre    \", round(data_progresa.groupby('poor')['poor'].count()['pobre'] / data_progresa['poor'].count() * 100, 2))"
   ]
  },
  {
   "cell_type": "markdown",
   "metadata": {},
   "source": [
    "Yes, the observations related to 'progresa' levels fit the documentation provided, as we do have '0' (control) and 'basal' (treatment) levels which conform with the documentation provided. This is true for 'poor' levels as well, as we have 'pobre' (poor) and 'no pobre' (not poor) as mentioned in the documentation."
   ]
  },
  {
   "cell_type": "markdown",
   "metadata": {
    "ein.tags": "worksheet-0",
    "slideshow": {
     "slide_type": "-"
    }
   },
   "source": [
    "### 1.2 Differences at baseline?\n",
    "Now let's investigate the differences in baseline.  Are the baseline (1997) demographic characteristics **for the poor**\n",
    "different in treatment and control villages?\n",
    "\n",
    "I suggest you to use a T-Test to\n",
    "determine whether there is a statistically significant difference in\n",
    "the average values of each of the variables in the dataset. Focus only\n",
    "on the data from 1997 for poor.\n",
    "\n",
    "Present your results in a single table with the following columns and 14 (or so) rows:\n",
    "\n",
    "| Variable name | Average value (Treatment villages) | Average value (Control villages) | Difference (Treat - Control) | p-value |\n",
    "|------|------|------|------|------|\n",
    "|Male|?|?|?|?|\n"
   ]
  },
  {
   "cell_type": "code",
   "execution_count": 3,
   "metadata": {
    "autoscroll": false,
    "ein.tags": "worksheet-0",
    "slideshow": {
     "slide_type": "-"
    }
   },
   "outputs": [
    {
     "name": "stdout",
     "output_type": "stream",
     "text": [
      "Differences at Baseline:\n",
      "\n"
     ]
    },
    {
     "data": {
      "text/html": [
       "<div>\n",
       "<style scoped>\n",
       "    .dataframe tbody tr th:only-of-type {\n",
       "        vertical-align: middle;\n",
       "    }\n",
       "\n",
       "    .dataframe tbody tr th {\n",
       "        vertical-align: top;\n",
       "    }\n",
       "\n",
       "    .dataframe thead th {\n",
       "        text-align: right;\n",
       "    }\n",
       "</style>\n",
       "<table border=\"1\" class=\"dataframe\">\n",
       "  <thead>\n",
       "    <tr style=\"text-align: right;\">\n",
       "      <th></th>\n",
       "      <th>Average Value (Treatment Villages)</th>\n",
       "      <th>Average Value (Control Villages)</th>\n",
       "      <th>Difference (Treatment - Control)</th>\n",
       "      <th>p-value</th>\n",
       "    </tr>\n",
       "  </thead>\n",
       "  <tbody>\n",
       "    <tr>\n",
       "      <th>age</th>\n",
       "      <td>10.716991</td>\n",
       "      <td>10.742023</td>\n",
       "      <td>-0.025032</td>\n",
       "      <td>0.478559</td>\n",
       "    </tr>\n",
       "    <tr>\n",
       "      <th>dist_cap</th>\n",
       "      <td>150.829074</td>\n",
       "      <td>153.769730</td>\n",
       "      <td>-2.940656</td>\n",
       "      <td>0.000842</td>\n",
       "    </tr>\n",
       "    <tr>\n",
       "      <th>dist_sec</th>\n",
       "      <td>2.453122</td>\n",
       "      <td>2.507662</td>\n",
       "      <td>-0.054540</td>\n",
       "      <td>0.035698</td>\n",
       "    </tr>\n",
       "    <tr>\n",
       "      <th>fam_n</th>\n",
       "      <td>7.281327</td>\n",
       "      <td>7.302469</td>\n",
       "      <td>-0.021142</td>\n",
       "      <td>0.427104</td>\n",
       "    </tr>\n",
       "    <tr>\n",
       "      <th>grc</th>\n",
       "      <td>3.531599</td>\n",
       "      <td>3.543050</td>\n",
       "      <td>-0.011450</td>\n",
       "      <td>0.689015</td>\n",
       "    </tr>\n",
       "    <tr>\n",
       "      <th>grc97</th>\n",
       "      <td>3.531599</td>\n",
       "      <td>3.543050</td>\n",
       "      <td>-0.011450</td>\n",
       "      <td>0.689015</td>\n",
       "    </tr>\n",
       "    <tr>\n",
       "      <th>hohage</th>\n",
       "      <td>43.648828</td>\n",
       "      <td>44.276918</td>\n",
       "      <td>-0.628090</td>\n",
       "      <td>0.000002</td>\n",
       "    </tr>\n",
       "    <tr>\n",
       "      <th>hohedu</th>\n",
       "      <td>2.663139</td>\n",
       "      <td>2.590348</td>\n",
       "      <td>0.072791</td>\n",
       "      <td>0.011051</td>\n",
       "    </tr>\n",
       "    <tr>\n",
       "      <th>hohsex</th>\n",
       "      <td>0.924656</td>\n",
       "      <td>0.922947</td>\n",
       "      <td>0.001709</td>\n",
       "      <td>0.571186</td>\n",
       "    </tr>\n",
       "    <tr>\n",
       "      <th>hohwag</th>\n",
       "      <td>544.339544</td>\n",
       "      <td>573.163558</td>\n",
       "      <td>-28.824015</td>\n",
       "      <td>0.000325</td>\n",
       "    </tr>\n",
       "    <tr>\n",
       "      <th>indig</th>\n",
       "      <td>0.325986</td>\n",
       "      <td>0.332207</td>\n",
       "      <td>-0.006222</td>\n",
       "      <td>0.245360</td>\n",
       "    </tr>\n",
       "    <tr>\n",
       "      <th>min_dist</th>\n",
       "      <td>107.152915</td>\n",
       "      <td>103.237854</td>\n",
       "      <td>3.915060</td>\n",
       "      <td>0.000000</td>\n",
       "    </tr>\n",
       "    <tr>\n",
       "      <th>progresa</th>\n",
       "      <td>NaN</td>\n",
       "      <td>0.000000</td>\n",
       "      <td>NaN</td>\n",
       "      <td>NaN</td>\n",
       "    </tr>\n",
       "    <tr>\n",
       "      <th>sc</th>\n",
       "      <td>0.822697</td>\n",
       "      <td>0.815186</td>\n",
       "      <td>0.007511</td>\n",
       "      <td>0.095178</td>\n",
       "    </tr>\n",
       "    <tr>\n",
       "      <th>sc97</th>\n",
       "      <td>0.822697</td>\n",
       "      <td>0.815186</td>\n",
       "      <td>0.007511</td>\n",
       "      <td>0.095178</td>\n",
       "    </tr>\n",
       "    <tr>\n",
       "      <th>sex</th>\n",
       "      <td>0.519317</td>\n",
       "      <td>0.505052</td>\n",
       "      <td>0.014265</td>\n",
       "      <td>0.012192</td>\n",
       "    </tr>\n",
       "    <tr>\n",
       "      <th>welfare_index</th>\n",
       "      <td>655.428377</td>\n",
       "      <td>659.579100</td>\n",
       "      <td>-4.150723</td>\n",
       "      <td>0.001431</td>\n",
       "    </tr>\n",
       "  </tbody>\n",
       "</table>\n",
       "</div>"
      ],
      "text/plain": [
       "               Average Value (Treatment Villages)  \\\n",
       "age                                     10.716991   \n",
       "dist_cap                               150.829074   \n",
       "dist_sec                                 2.453122   \n",
       "fam_n                                    7.281327   \n",
       "grc                                      3.531599   \n",
       "grc97                                    3.531599   \n",
       "hohage                                  43.648828   \n",
       "hohedu                                   2.663139   \n",
       "hohsex                                   0.924656   \n",
       "hohwag                                 544.339544   \n",
       "indig                                    0.325986   \n",
       "min_dist                               107.152915   \n",
       "progresa                                      NaN   \n",
       "sc                                       0.822697   \n",
       "sc97                                     0.822697   \n",
       "sex                                      0.519317   \n",
       "welfare_index                          655.428377   \n",
       "\n",
       "               Average Value (Control Villages)  \\\n",
       "age                                   10.742023   \n",
       "dist_cap                             153.769730   \n",
       "dist_sec                               2.507662   \n",
       "fam_n                                  7.302469   \n",
       "grc                                    3.543050   \n",
       "grc97                                  3.543050   \n",
       "hohage                                44.276918   \n",
       "hohedu                                 2.590348   \n",
       "hohsex                                 0.922947   \n",
       "hohwag                               573.163558   \n",
       "indig                                  0.332207   \n",
       "min_dist                             103.237854   \n",
       "progresa                               0.000000   \n",
       "sc                                     0.815186   \n",
       "sc97                                   0.815186   \n",
       "sex                                    0.505052   \n",
       "welfare_index                        659.579100   \n",
       "\n",
       "               Difference (Treatment - Control)   p-value  \n",
       "age                                   -0.025032  0.478559  \n",
       "dist_cap                              -2.940656  0.000842  \n",
       "dist_sec                              -0.054540  0.035698  \n",
       "fam_n                                 -0.021142  0.427104  \n",
       "grc                                   -0.011450  0.689015  \n",
       "grc97                                 -0.011450  0.689015  \n",
       "hohage                                -0.628090  0.000002  \n",
       "hohedu                                 0.072791  0.011051  \n",
       "hohsex                                 0.001709  0.571186  \n",
       "hohwag                               -28.824015  0.000325  \n",
       "indig                                 -0.006222  0.245360  \n",
       "min_dist                               3.915060  0.000000  \n",
       "progresa                                    NaN       NaN  \n",
       "sc                                     0.007511  0.095178  \n",
       "sc97                                   0.007511  0.095178  \n",
       "sex                                    0.014265  0.012192  \n",
       "welfare_index                         -4.150723  0.001431  "
      ]
     },
     "execution_count": 3,
     "metadata": {},
     "output_type": "execute_result"
    }
   ],
   "source": [
    "# Import 'numpy' and 'stats' from 'scipy' module\n",
    "import numpy as np\n",
    "from scipy import stats\n",
    "\n",
    "# Create the baseline (1997, and 'pobre') dataframe \n",
    "data_progresa_base = data_progresa[np.logical_and(data_progresa['year'] == 97, \n",
    "                                                  data_progresa['poor'] == 'pobre')]\n",
    "\n",
    "# Separate treatment and control villages\n",
    "base_control = data_progresa_base.drop(['year', 'folnum', 'village'], axis = 1)[data_progresa_base['progresa'] == '0']\n",
    "base_treatment = data_progresa_base.drop(['year', 'folnum', 'village'], axis = 1)[data_progresa_base['progresa'] == 'basal']\n",
    "\n",
    "# Find the corresponding average values for treatment and control villages\n",
    "mean_base_control = base_control.mean().to_frame(name = 'Average Value (Control Villages)')\n",
    "mean_base_treatment = base_treatment.mean().to_frame(name = 'Average Value (Treatment Villages)')\n",
    "difference_mean = (mean_base_treatment.iloc[:, 0] - mean_base_control.iloc[:, 0]).to_frame(name = 'Difference (Treatment - Control)')\n",
    "\n",
    "# Get all the column names\n",
    "var = list(difference_mean.index)\n",
    "\n",
    "# Create an empty dictionary\n",
    "p_value = {}\n",
    "\n",
    "# Calculate the p-value as per the t-test\n",
    "for i in var:\n",
    "    if i == 'progresa':\n",
    "        continue\n",
    "    t_test = stats.ttest_ind(base_control[i].dropna(), base_treatment[i].dropna())\n",
    "    p_value[i] = round(t_test.pvalue, 6)\n",
    "    \n",
    "# Convert p_value dictionary to data frame\n",
    "p_value_df = pd.DataFrame.from_dict(p_value, orient = 'index')\n",
    "p_value_df.columns = ['p-value']\n",
    "\n",
    "# Print the final dataframe in the desired format\n",
    "print(\"Differences at Baseline:\\n\")\n",
    "pd.concat([mean_base_treatment, mean_base_control, difference_mean, p_value_df], axis = 1)"
   ]
  },
  {
   "cell_type": "markdown",
   "metadata": {
    "ein.tags": "worksheet-0",
    "slideshow": {
     "slide_type": "-"
    }
   },
   "source": [
    "### 1.3 Interpretation\n",
    "\n",
    "* A: Are there statistically significant differences between treatment and control villages as baseline? \n",
    "* B: Why does it matter if there are differences at baseline?\n",
    "* C: What does this imply about how to measure the impact of the treatment?"
   ]
  },
  {
   "cell_type": "markdown",
   "metadata": {
    "ein.tags": "worksheet-0",
    "slideshow": {
     "slide_type": "-"
    }
   },
   "source": [
    "A: Yes, we observe that we have statistically significant differences between treatment and control villages as baseline for the following variables (p-value < 0.05):\n",
    "\n",
    "- dist_cap: min distance to the capital\n",
    "\n",
    "- dist_sec: nearest distance to a secondary school\n",
    "\n",
    "- hohage: age of head of household\n",
    "\n",
    "- hohedu: years of schooling of head of household\n",
    "\n",
    "- hohwag: monthly wages of head of household\n",
    "\n",
    "- min_dist: min distance to an urban center\n",
    "\n",
    "- sex: male = 1\n",
    "\n",
    "- welfare_index: welfare index used to classify poor\n",
    "\n",
    "B: It matters if there are differences at baseline because we should be aware of these differences while making casual inferences related to the impact of the treatment. Collection of pre-program data is essential in analyzing the impact of the treatment or making the before-after comparisons. If the pre-program data indicates that there are differences at the baseline, it gets hard to make causal inferences because the effect of the treatment may be different in the control and treated group.\n",
    "\n",
    "C: This suggests that it will be required to subtract these differences and it will be useful to employ the difference-in-difference estimator to analyze the impact of the treatment. However, we may run a risk of over-estimating or under-estimating the impact due to the observed differences in baseline."
   ]
  },
  {
   "cell_type": "markdown",
   "metadata": {
    "ein.tags": "worksheet-0",
    "slideshow": {
     "slide_type": "-"
    }
   },
   "source": [
    "### 1.4 Graphical exploration, part 1\n",
    "\n",
    "For each level of household head education, compute the average\n",
    "enrollment rate in 1997. Create a scatterplot that shows this\n",
    "relationship. What do you notice?"
   ]
  },
  {
   "cell_type": "code",
   "execution_count": 4,
   "metadata": {
    "autoscroll": false,
    "ein.tags": "worksheet-0",
    "slideshow": {
     "slide_type": "-"
    }
   },
   "outputs": [
    {
     "data": {
      "text/plain": [
       "<matplotlib.figure.Figure at 0x1bb06074748>"
      ]
     },
     "metadata": {},
     "output_type": "display_data"
    },
    {
     "name": "stdout",
     "output_type": "stream",
     "text": [
      "Observations where 'hohedu' is 20: 4\n"
     ]
    }
   ],
   "source": [
    "# Import the 'matplotlib.pyplot' module\n",
    "import matplotlib.pyplot as plt\n",
    "\n",
    "# Create the requisite plot\n",
    "plt.style.use('ggplot')                                        # Select 'ggplot' style\n",
    "plt.figure(figsize=(14,10))                                    # Define figure size\n",
    "plt.scatter(data_progresa[data_progresa['year'] == 97].groupby(['hohedu']).mean().index, data_progresa[data_progresa['year'] == 97].groupby(['hohedu']).mean().sc97, alpha = 0.8)\n",
    "                                                               # Create the plot\n",
    "plt.title('Mean Enrollment Rate - 1997 (by Level of Household Head Education)')                      \n",
    "                                                               # Define title\n",
    "plt.ylabel('Mean Enrollment Rate - 1997')                      # Define y-label\n",
    "plt.xlabel('Level of Household Head Education')                # Define x-label\n",
    "plt.ylim(-0.05,1.05)                                           # Fix the y-axis limits\n",
    "plt.show()\n",
    "\n",
    "# Check the observations were we have the 'hohedu' at 20\n",
    "print(\"Observations where 'hohedu' is 20:\", (data_progresa['hohedu'] == 20).sum())"
   ]
  },
  {
   "cell_type": "markdown",
   "metadata": {
    "ein.tags": "worksheet-0",
    "slideshow": {
     "slide_type": "-"
    }
   },
   "source": [
    "We observe that as the 'years of schooling of the head of household' increases, the 'average enrollment rate' increases as well.\n",
    "\n",
    "The unusual decrease in the value of 'average enrollment rate' for the 20 'years of schooling of the head of household' represents 4 observations from the data provided, which may not reveal any significant trend.  "
   ]
  },
  {
   "cell_type": "markdown",
   "metadata": {
    "ein.tags": "worksheet-0",
    "slideshow": {
     "slide_type": "-"
    }
   },
   "source": [
    "### 1.5 Graphical exploration, part 2\n",
    "\n",
    "Create a histogram of village enrollment rates **among poor households\n",
    "in treated villages**, before and after treatment.  Specifically, for\n",
    "each village, calculate the average rate of enrollment of poor\n",
    "households in treated villages in 1997, then compute the average rate\n",
    "of enrollment of poor households in treated villages in 1998. Create\n",
    "two separate histograms showing the distribution of these average\n",
    "enrollments rates, one histogram for 1997 and one histogram for\n",
    "1998. On each histogram, draw a vertical line that intersects the\n",
    "x-axis at the average value (across all households). Does there appear\n",
    "to be a difference? Is this difference statistically significant?"
   ]
  },
  {
   "cell_type": "code",
   "execution_count": 5,
   "metadata": {
    "autoscroll": false,
    "ein.tags": "worksheet-0",
    "slideshow": {
     "slide_type": "-"
    }
   },
   "outputs": [
    {
     "data": {
      "image/png": "[encoded data removed]",
      "text/plain": [
       "<matplotlib.figure.Figure at 0x1bb05c85a20>"
      ]
     },
     "metadata": {},
     "output_type": "display_data"
    },
    {
     "name": "stdout",
     "output_type": "stream",
     "text": [
      "p-value of Enrollment Rates: 0.044249\n"
     ]
    }
   ],
   "source": [
    "# Calculate the average value of enrollment rates\n",
    "data_97 = (data_progresa[np.logical_and(np.logical_and(data_progresa['year'] == 97, data_progresa['poor'] == 'pobre'), \n",
    "                                           data_progresa['progresa'] == 'basal')].groupby(['village']).mean()['sc97'])\n",
    "\n",
    "data_98 = (data_progresa[np.logical_and(np.logical_and(data_progresa['year'] == 98, data_progresa['poor'] == 'pobre'), \n",
    "                                           data_progresa['progresa'] == 'basal')].groupby(['village']).mean()['sc'])\n",
    "average_97 = data_97.mean()\n",
    "average_98 = data_98.mean()\n",
    "\n",
    "\n",
    "# Plot the histograms as required\n",
    "plt.figure(figsize=(14,10))                                                    # Define the figure size\n",
    "plt.subplot(2, 1, 1)                                                           # Define the subplot settings\n",
    "plt.hist(data_progresa[np.logical_and(np.logical_and(data_progresa['year'] == 97, data_progresa['poor'] == 'pobre'), \n",
    "              data_progresa['progresa'] == 'basal')].groupby(['village']).mean()['sc97'], alpha = 0.8, bins = 20)\n",
    "                                                                               # Plot the histogram\n",
    "plt.ylabel('Frequency')                                                        # Define y-label\n",
    "plt.title('Enrollment Rates Among Poor Households in Treated Villages')        # Define title\n",
    "plt.plot([average_97, average_97], [0,50], ls = 'dashed')                      # Plot the average line\n",
    "plt.text(0.82, 45, round(average_97, 2))                                       # Mark the line with text\n",
    "plt.xlim(0.4, 1.05)\n",
    "\n",
    "plt.subplot(2, 1, 2)                                                           # Define the subplot settings\n",
    "plt.hist(data_progresa[np.logical_and(np.logical_and(data_progresa['year'] == 98, data_progresa['poor'] == 'pobre'), \n",
    "              data_progresa['progresa'] == 'basal')].groupby(['village']).mean()['sc'], alpha = 0.8, bins = 20)\n",
    "                                                                               # Plot the histogram\n",
    "plt.ylabel('Frequency')                                                        # Define y-label\n",
    "plt.xlabel('Mean Enrollment Rate')                                             # Define x-label\n",
    "plt.plot([average_98, average_98], [0,50], ls = 'dashed')                      # Plot the average line\n",
    "plt.text(0.835, 45, round(average_98, 2))                                      # Mark the line with text  \n",
    "plt.xlim(0.4, 1.05)\n",
    "plt.show() \n",
    "\n",
    "print(\"p-value of Enrollment Rates:\", round(stats.ttest_ind(data_97, data_98).pvalue, 6))"
   ]
  },
  {
   "cell_type": "markdown",
   "metadata": {
    "ein.tags": "worksheet-0",
    "slideshow": {
     "slide_type": "-"
    }
   },
   "source": [
    "Yes, we do observe a statistically significant difference in the two histograms that represents the average enrollment rates among poor households in treated villages, before and after treatment.\n",
    "\n",
    "This is confirmed by the obtained p-value which is below 0.05."
   ]
  },
  {
   "cell_type": "markdown",
   "metadata": {
    "ein.tags": "worksheet-0",
    "slideshow": {
     "slide_type": "-"
    }
   },
   "source": [
    "## Part 2: Measuring Impact\n",
    "\n",
    "Our goal is to estimate the causal impact of the PROGRESA program on\n",
    "the social and economic outcomes of individuals in Mexico. We will\n",
    "focus on the impact of the program on the poor (those with\n",
    "poor=='pobre'), since only the poor were eligible to receive the\n",
    "PROGRESA assistance.\n",
    "\n",
    "### 2.1 Cross-Sectional Estimator: T-test\n",
    "\n",
    "Begin by estimating the impact of Progresa using \"simple differences.\"\n",
    "Restricting yourself to data from 1998 (after treatment), calculate\n",
    "the average enrollment rate among **poor** households in the Treatment\n",
    "villages and the average enrollment rate among **poor** households in\n",
    "the control villages. Use a t-test to determine if this difference is\n",
    "statistically significant. What do you conclude?"
   ]
  },
  {
   "cell_type": "code",
   "execution_count": 6,
   "metadata": {
    "autoscroll": false,
    "ein.tags": "worksheet-0",
    "slideshow": {
     "slide_type": "-"
    }
   },
   "outputs": [
    {
     "name": "stdout",
     "output_type": "stream",
     "text": [
      "Test Statistic (Cross-Sectional Estimator): -8.358721\n",
      "p-value (Cross-Sectional Estimator): 6.6e-17\n"
     ]
    }
   ],
   "source": [
    "# Subset the data to retain only observations corresponding to year 1998 and 'poor'\n",
    "data_progresa_98 = data_progresa[np.logical_and(data_progresa['year'] == 98, \n",
    "                                                data_progresa['poor'] == 'pobre')]\n",
    "\n",
    "\n",
    "# Print the output of the t-test\n",
    "cross_sec_ttest = stats.ttest_ind(data_progresa_98[data_progresa_98['progresa'] == '0']['sc'].dropna(), \n",
    "                                  data_progresa_98[data_progresa_98['progresa'] == 'basal']['sc'].dropna())\n",
    "print(\"Test Statistic (Cross-Sectional Estimator):\", round(cross_sec_ttest.statistic, 6))\n",
    "print(\"p-value (Cross-Sectional Estimator):\", round(cross_sec_ttest.pvalue, 18))"
   ]
  },
  {
   "cell_type": "markdown",
   "metadata": {
    "ein.tags": "worksheet-0",
    "slideshow": {
     "slide_type": "-"
    }
   },
   "source": [
    "Yes, we observe that the calculated p-value is below 0.05, which suggests that the difference between the enrollment rate in control villages is statistically significantly different than the enrollment rate in treatment villages among poor households in the year 1998 (after treatment)."
   ]
  },
  {
   "cell_type": "markdown",
   "metadata": {
    "ein.tags": "worksheet-0",
    "slideshow": {
     "slide_type": "-"
    }
   },
   "source": [
    "### 2.2 Cross-Sectional Estimator: Regression\n",
    "\n",
    "Estimate the effects of Progresa on enrollment using a regression\n",
    "model, by regressing the 1998 enrollment rates **of the poor** on\n",
    "treatment assignment.  Do not include any additional control\n",
    "variables.\n",
    "Discuss the following:\n",
    "\n",
    "* Based on this model, how much did Progresa increase the likelihood of a child enrolling?\n",
    "* How does your regression estimate compare to your t-test estimate from part 2.1?\n",
    "* Based on this regression model, can we reject the null hypothesis that the treatment effects are zero? \n",
    "* What is the counterfactual assumption underlying this regression?\n",
    "\n",
    "Note: I recommend to use statsmodels.formula.api as this allows to use\n",
    "convenient R-style formulas and provedes nice summaries of the results."
   ]
  },
  {
   "cell_type": "code",
   "execution_count": 7,
   "metadata": {
    "autoscroll": false,
    "ein.tags": "worksheet-0",
    "slideshow": {
     "slide_type": "-"
    }
   },
   "outputs": [
    {
     "data": {
      "text/html": [
       "<table class=\"simpletable\">\n",
       "<caption>OLS Regression Results</caption>\n",
       "<tr>\n",
       "  <th>Dep. Variable:</th>           <td>sc</td>        <th>  R-squared:         </th> <td>   0.003</td> \n",
       "</tr>\n",
       "<tr>\n",
       "  <th>Model:</th>                   <td>OLS</td>       <th>  Adj. R-squared:    </th> <td>   0.003</td> \n",
       "</tr>\n",
       "<tr>\n",
       "  <th>Method:</th>             <td>Least Squares</td>  <th>  F-statistic:       </th> <td>   69.87</td> \n",
       "</tr>\n",
       "<tr>\n",
       "  <th>Date:</th>             <td>Mon, 11 Jun 2018</td> <th>  Prob (F-statistic):</th> <td>6.64e-17</td> \n",
       "</tr>\n",
       "<tr>\n",
       "  <th>Time:</th>                 <td>15:50:06</td>     <th>  Log-Likelihood:    </th> <td> -11926.</td> \n",
       "</tr>\n",
       "<tr>\n",
       "  <th>No. Observations:</th>      <td> 27450</td>      <th>  AIC:               </th> <td>2.386e+04</td>\n",
       "</tr>\n",
       "<tr>\n",
       "  <th>Df Residuals:</th>          <td> 27448</td>      <th>  BIC:               </th> <td>2.387e+04</td>\n",
       "</tr>\n",
       "<tr>\n",
       "  <th>Df Model:</th>              <td>     1</td>      <th>                     </th>     <td> </td>    \n",
       "</tr>\n",
       "<tr>\n",
       "  <th>Covariance Type:</th>      <td>nonrobust</td>    <th>                     </th>     <td> </td>    \n",
       "</tr>\n",
       "</table>\n",
       "<table class=\"simpletable\">\n",
       "<tr>\n",
       "            <td></td>              <th>coef</th>     <th>std err</th>      <th>t</th>      <th>P>|t|</th>  <th>[0.025</th>    <th>0.975]</th>  \n",
       "</tr>\n",
       "<tr>\n",
       "  <th>Intercept</th>            <td>    0.8076</td> <td>    0.004</td> <td>  220.676</td> <td> 0.000</td> <td>    0.800</td> <td>    0.815</td>\n",
       "</tr>\n",
       "<tr>\n",
       "  <th>C(progresa)[T.basal]</th> <td>    0.0388</td> <td>    0.005</td> <td>    8.359</td> <td> 0.000</td> <td>    0.030</td> <td>    0.048</td>\n",
       "</tr>\n",
       "</table>\n",
       "<table class=\"simpletable\">\n",
       "<tr>\n",
       "  <th>Omnibus:</th>       <td>7638.939</td> <th>  Durbin-Watson:     </th> <td>   1.734</td> \n",
       "</tr>\n",
       "<tr>\n",
       "  <th>Prob(Omnibus):</th>  <td> 0.000</td>  <th>  Jarque-Bera (JB):  </th> <td>15767.534</td>\n",
       "</tr>\n",
       "<tr>\n",
       "  <th>Skew:</th>           <td>-1.767</td>  <th>  Prob(JB):          </th> <td>    0.00</td> \n",
       "</tr>\n",
       "<tr>\n",
       "  <th>Kurtosis:</th>       <td> 4.140</td>  <th>  Cond. No.          </th> <td>    3.01</td> \n",
       "</tr>\n",
       "</table>"
      ],
      "text/plain": [
       "<class 'statsmodels.iolib.summary.Summary'>\n",
       "\"\"\"\n",
       "                            OLS Regression Results                            \n",
       "==============================================================================\n",
       "Dep. Variable:                     sc   R-squared:                       0.003\n",
       "Model:                            OLS   Adj. R-squared:                  0.003\n",
       "Method:                 Least Squares   F-statistic:                     69.87\n",
       "Date:                Mon, 11 Jun 2018   Prob (F-statistic):           6.64e-17\n",
       "Time:                        15:50:06   Log-Likelihood:                -11926.\n",
       "No. Observations:               27450   AIC:                         2.386e+04\n",
       "Df Residuals:                   27448   BIC:                         2.387e+04\n",
       "Df Model:                           1                                         \n",
       "Covariance Type:            nonrobust                                         \n",
       "========================================================================================\n",
       "                           coef    std err          t      P>|t|      [0.025      0.975]\n",
       "----------------------------------------------------------------------------------------\n",
       "Intercept                0.8076      0.004    220.676      0.000       0.800       0.815\n",
       "C(progresa)[T.basal]     0.0388      0.005      8.359      0.000       0.030       0.048\n",
       "==============================================================================\n",
       "Omnibus:                     7638.939   Durbin-Watson:                   1.734\n",
       "Prob(Omnibus):                  0.000   Jarque-Bera (JB):            15767.534\n",
       "Skew:                          -1.767   Prob(JB):                         0.00\n",
       "Kurtosis:                       4.140   Cond. No.                         3.01\n",
       "==============================================================================\n",
       "\n",
       "Warnings:\n",
       "[1] Standard Errors assume that the covariance matrix of the errors is correctly specified.\n",
       "\"\"\""
      ]
     },
     "execution_count": 7,
     "metadata": {},
     "output_type": "execute_result"
    }
   ],
   "source": [
    "# Import the 'statsmodels.formula.api' module\n",
    "import statsmodels.formula.api as smf\n",
    "\n",
    "# Create the regression model for 1998 enrollment rates of the poor on treatment assignment\n",
    "model_regression = smf.ols(formula = 'sc ~ C(progresa)', data = data_progresa_98)\n",
    "model_regression.fit().summary()"
   ]
  },
  {
   "cell_type": "markdown",
   "metadata": {
    "ein.tags": "worksheet-0",
    "slideshow": {
     "slide_type": "-"
    }
   },
   "source": [
    "A: We observe that the coefficient of C(progresa)[T.basal] is 0.0388. This suggests that the enrollment rate increases by 0.0388 if treated or if the 'progresa' == 'basal'.\n",
    "\n",
    "B: We observe that the coefficient of C(progresa)[T.basal] has a t-statistic of 8.359 which matches with the 'statistic' we observed for the t-test. This suggests that the outcome of the regression analysis matches with the outcome of the t-test we conducted for 2.1.\n",
    "\n",
    "C: Yes, we can reject the null hypothesis that the treatment effects are zero as the p-value is less than 0.05 for the C(progresa)[T.basal]. This suggests that we have statistically significant evidence in the direction of the alternate hypothesis that should allow us to reject the null hypothesis. \n",
    "\n",
    "D: The counterfactual assumption that is underlying this regression is that the difference between the control and treated villages for the year 1998 among the poor households would not have been observed if not for 'progresa' (treatment)."
   ]
  },
  {
   "cell_type": "markdown",
   "metadata": {
    "ein.tags": "worksheet-0",
    "slideshow": {
     "slide_type": "-"
    }
   },
   "source": [
    "### 2.3 Multiple Regression\n",
    "\n",
    "Re-run the above regression estimated but this time include a set of\n",
    "relevant control variables. Include, for instance, age, distance to a secondary\n",
    "school, gender, education of household head, welfare index,\n",
    "indigenous, etc.\n",
    "\n",
    "* How do the controls affect the point estimate of treatment effect?\n",
    "* How do the controls affect the standard error on the treatment effect? \n",
    "* How do you interpret the differences (or similarities) between your estimates of 2.2 and 2.3?"
   ]
  },
  {
   "cell_type": "code",
   "execution_count": 8,
   "metadata": {
    "autoscroll": false,
    "ein.tags": "worksheet-0",
    "slideshow": {
     "slide_type": "-"
    }
   },
   "outputs": [
    {
     "data": {
      "text/html": [
       "<table class=\"simpletable\">\n",
       "<caption>OLS Regression Results</caption>\n",
       "<tr>\n",
       "  <th>Dep. Variable:</th>           <td>sc</td>        <th>  R-squared:         </th> <td>   0.267</td> \n",
       "</tr>\n",
       "<tr>\n",
       "  <th>Model:</th>                   <td>OLS</td>       <th>  Adj. R-squared:    </th> <td>   0.267</td> \n",
       "</tr>\n",
       "<tr>\n",
       "  <th>Method:</th>             <td>Least Squares</td>  <th>  F-statistic:       </th> <td>   1419.</td> \n",
       "</tr>\n",
       "<tr>\n",
       "  <th>Date:</th>             <td>Mon, 11 Jun 2018</td> <th>  Prob (F-statistic):</th>  <td>  0.00</td>  \n",
       "</tr>\n",
       "<tr>\n",
       "  <th>Time:</th>                 <td>15:50:06</td>     <th>  Log-Likelihood:    </th> <td> -7639.4</td> \n",
       "</tr>\n",
       "<tr>\n",
       "  <th>No. Observations:</th>      <td> 27267</td>      <th>  AIC:               </th> <td>1.529e+04</td>\n",
       "</tr>\n",
       "<tr>\n",
       "  <th>Df Residuals:</th>          <td> 27259</td>      <th>  BIC:               </th> <td>1.536e+04</td>\n",
       "</tr>\n",
       "<tr>\n",
       "  <th>Df Model:</th>              <td>     7</td>      <th>                     </th>     <td> </td>    \n",
       "</tr>\n",
       "<tr>\n",
       "  <th>Covariance Type:</th>      <td>nonrobust</td>    <th>                     </th>     <td> </td>    \n",
       "</tr>\n",
       "</table>\n",
       "<table class=\"simpletable\">\n",
       "<tr>\n",
       "            <td></td>              <th>coef</th>     <th>std err</th>      <th>t</th>      <th>P>|t|</th>  <th>[0.025</th>    <th>0.975]</th>  \n",
       "</tr>\n",
       "<tr>\n",
       "  <th>Intercept</th>            <td>    1.5025</td> <td>    0.014</td> <td>  105.342</td> <td> 0.000</td> <td>    1.475</td> <td>    1.530</td>\n",
       "</tr>\n",
       "<tr>\n",
       "  <th>C(progresa)[T.basal]</th> <td>    0.0352</td> <td>    0.004</td> <td>    8.799</td> <td> 0.000</td> <td>    0.027</td> <td>    0.043</td>\n",
       "</tr>\n",
       "<tr>\n",
       "  <th>C(sex)[T.1.0]</th>        <td>    0.0310</td> <td>    0.004</td> <td>    7.977</td> <td> 0.000</td> <td>    0.023</td> <td>    0.039</td>\n",
       "</tr>\n",
       "<tr>\n",
       "  <th>C(indig)[T.1.0]</th>      <td>    0.0468</td> <td>    0.004</td> <td>   11.283</td> <td> 0.000</td> <td>    0.039</td> <td>    0.055</td>\n",
       "</tr>\n",
       "<tr>\n",
       "  <th>age</th>                  <td>   -0.0655</td> <td>    0.001</td> <td>  -95.105</td> <td> 0.000</td> <td>   -0.067</td> <td>   -0.064</td>\n",
       "</tr>\n",
       "<tr>\n",
       "  <th>dist_sec</th>             <td>   -0.0117</td> <td>    0.001</td> <td>  -13.361</td> <td> 0.000</td> <td>   -0.013</td> <td>   -0.010</td>\n",
       "</tr>\n",
       "<tr>\n",
       "  <th>hohedu</th>               <td>    0.0085</td> <td>    0.001</td> <td>   10.951</td> <td> 0.000</td> <td>    0.007</td> <td>    0.010</td>\n",
       "</tr>\n",
       "<tr>\n",
       "  <th>welfare_index</th>        <td> 3.227e-05</td> <td> 1.72e-05</td> <td>    1.872</td> <td> 0.061</td> <td>-1.52e-06</td> <td> 6.61e-05</td>\n",
       "</tr>\n",
       "</table>\n",
       "<table class=\"simpletable\">\n",
       "<tr>\n",
       "  <th>Omnibus:</th>       <td>2993.090</td> <th>  Durbin-Watson:     </th> <td>   1.718</td>\n",
       "</tr>\n",
       "<tr>\n",
       "  <th>Prob(Omnibus):</th>  <td> 0.000</td>  <th>  Jarque-Bera (JB):  </th> <td>4083.947</td>\n",
       "</tr>\n",
       "<tr>\n",
       "  <th>Skew:</th>           <td>-0.940</td>  <th>  Prob(JB):          </th> <td>    0.00</td>\n",
       "</tr>\n",
       "<tr>\n",
       "  <th>Kurtosis:</th>       <td> 3.248</td>  <th>  Cond. No.          </th> <td>4.90e+03</td>\n",
       "</tr>\n",
       "</table>"
      ],
      "text/plain": [
       "<class 'statsmodels.iolib.summary.Summary'>\n",
       "\"\"\"\n",
       "                            OLS Regression Results                            \n",
       "==============================================================================\n",
       "Dep. Variable:                     sc   R-squared:                       0.267\n",
       "Model:                            OLS   Adj. R-squared:                  0.267\n",
       "Method:                 Least Squares   F-statistic:                     1419.\n",
       "Date:                Mon, 11 Jun 2018   Prob (F-statistic):               0.00\n",
       "Time:                        15:50:06   Log-Likelihood:                -7639.4\n",
       "No. Observations:               27267   AIC:                         1.529e+04\n",
       "Df Residuals:                   27259   BIC:                         1.536e+04\n",
       "Df Model:                           7                                         \n",
       "Covariance Type:            nonrobust                                         \n",
       "========================================================================================\n",
       "                           coef    std err          t      P>|t|      [0.025      0.975]\n",
       "----------------------------------------------------------------------------------------\n",
       "Intercept                1.5025      0.014    105.342      0.000       1.475       1.530\n",
       "C(progresa)[T.basal]     0.0352      0.004      8.799      0.000       0.027       0.043\n",
       "C(sex)[T.1.0]            0.0310      0.004      7.977      0.000       0.023       0.039\n",
       "C(indig)[T.1.0]          0.0468      0.004     11.283      0.000       0.039       0.055\n",
       "age                     -0.0655      0.001    -95.105      0.000      -0.067      -0.064\n",
       "dist_sec                -0.0117      0.001    -13.361      0.000      -0.013      -0.010\n",
       "hohedu                   0.0085      0.001     10.951      0.000       0.007       0.010\n",
       "welfare_index         3.227e-05   1.72e-05      1.872      0.061   -1.52e-06    6.61e-05\n",
       "==============================================================================\n",
       "Omnibus:                     2993.090   Durbin-Watson:                   1.718\n",
       "Prob(Omnibus):                  0.000   Jarque-Bera (JB):             4083.947\n",
       "Skew:                          -0.940   Prob(JB):                         0.00\n",
       "Kurtosis:                       3.248   Cond. No.                     4.90e+03\n",
       "==============================================================================\n",
       "\n",
       "Warnings:\n",
       "[1] Standard Errors assume that the covariance matrix of the errors is correctly specified.\n",
       "[2] The condition number is large, 4.9e+03. This might indicate that there are\n",
       "strong multicollinearity or other numerical problems.\n",
       "\"\"\""
      ]
     },
     "execution_count": 8,
     "metadata": {},
     "output_type": "execute_result"
    }
   ],
   "source": [
    "# Create the multiple regression model for 1998 enrollment rates of the poor on treatment assignment\n",
    "model_regression_multiple = smf.ols(formula = 'sc ~ C(progresa) + age + dist_sec + C(sex) + hohedu + welfare_index + C(indig)', \n",
    "                                    data = data_progresa_98)\n",
    "model_regression_multiple.fit().summary()"
   ]
  },
  {
   "cell_type": "markdown",
   "metadata": {
    "ein.tags": "worksheet-0",
    "slideshow": {
     "slide_type": "-"
    }
   },
   "source": [
    "A: The controls reduces the point estimate of treatment effect from 0.0388 to 0.0352.\n",
    "\n",
    "B: The controls reduces the standard error on the treatment effect from 0.005 to 0.004.\n",
    "\n",
    "C: We observe that the treatment effect for 2.3 (0.0352) is different than what we observed in 2.2 (0.0388). This suggests that if we include a set of relevant control variables, we observe that the treatment effect diminishes by 9.28% (0.0036). This change in the value of treatment effect (0.0036) on the enrollment rates of the poor in the year 1998, is explained by the effect of the control variables in the regression. Also, we observe that the coefficient for treatment effect in 2.3 is statistically more significant than what we observed for 2.2."
   ]
  },
  {
   "cell_type": "markdown",
   "metadata": {
    "ein.tags": "worksheet-0",
    "slideshow": {
     "slide_type": "-"
    }
   },
   "source": [
    "### 2.4 Difference-in-Difference, version 1 (tabular)\n",
    "\n",
    "Thus far, we have computed the effects of Progresa by estimating the\n",
    "difference in 1998 enrollment rates across villages. An alternative\n",
    "approach would be to compute the treatment effect using a\n",
    "difference-in-differences framework.\n",
    "\n",
    "Begin by estimating the average treatment effects of the program for poor households using data from 1997 and 1998. Specifically, calculate:\n",
    "\n",
    "a) the difference (between 1997 and 1998) in enrollment rates among poor households in treated villages\n",
    "\n",
    "b) the difference (between 1997 and 1998) in enrollment rates among poor households in control villages.\n",
    "\n",
    "c) The difference between these two differences is your estimate.\n",
    "\n",
    "* What is your estimate of the impact, and how does it compare to your earlier (simple difference) results?\n",
    "\n",
    "* What is the counterfactual assumption underlying this estimate? \n"
   ]
  },
  {
   "cell_type": "code",
   "execution_count": 9,
   "metadata": {
    "autoscroll": false,
    "ein.tags": "worksheet-0",
    "slideshow": {
     "slide_type": "-"
    }
   },
   "outputs": [
    {
     "name": "stdout",
     "output_type": "stream",
     "text": [
      "A: The difference (between 1997 and 1998) in enrollment rates among poor households in treated villages is 0.0238\n",
      "B: The difference (between 1997 and 1998) in enrollment rates among poor households in control villages is -0.0075\n",
      "C: The difference between these two differences in the estimate is 0.0313\n"
     ]
    }
   ],
   "source": [
    "# Calculate the difference (between 1997 and 1998) in enrollment rates among poor households in treated villages\n",
    "data_progresa_treated_98 = data_progresa[np.logical_and(np.logical_and(data_progresa['year'] == 98, \n",
    "                                                                       data_progresa['progresa'] == 'basal'), \n",
    "                                                        data_progresa['poor'] == 'pobre')]['sc'].mean()\n",
    "data_progresa_treated_97 = data_progresa[np.logical_and(np.logical_and(data_progresa['year'] == 97, \n",
    "                                                                       data_progresa['progresa'] == 'basal'), \n",
    "                                                        data_progresa['poor'] == 'pobre')]['sc'].mean()\n",
    "difference_treated = data_progresa_treated_98 - data_progresa_treated_97\n",
    "print(\"A: The difference (between 1997 and 1998) in enrollment rates among poor households in treated villages is\", \n",
    "     round(difference_treated, 4))\n",
    "\n",
    "# Calculate the difference (between 1997 and 1998) in enrollment rates among poor households in control villages\n",
    "data_progresa_control_98 = data_progresa[np.logical_and(np.logical_and(data_progresa['year'] == 98, \n",
    "                                                                       data_progresa['progresa'] == '0'), \n",
    "                                                        data_progresa['poor'] == 'pobre')]['sc'].mean()\n",
    "data_progresa_control_97 = data_progresa[np.logical_and(np.logical_and(data_progresa['year'] == 97, \n",
    "                                                                       data_progresa['progresa'] == '0'), \n",
    "                                                        data_progresa['poor'] == 'pobre')]['sc'].mean()\n",
    "difference_control = data_progresa_control_98 - data_progresa_control_97\n",
    "print(\"B: The difference (between 1997 and 1998) in enrollment rates among poor households in control villages is\", \n",
    "     round(difference_control, 4))\n",
    "\n",
    "# Calculate the difference between these two differences in the estimate\n",
    "difference_in_difference = difference_treated - difference_control\n",
    "print(\"C: The difference between these two differences in the estimate is\", round(difference_in_difference, 4))"
   ]
  },
  {
   "cell_type": "markdown",
   "metadata": {
    "ein.tags": "worksheet-0",
    "slideshow": {
     "slide_type": "-"
    }
   },
   "source": [
    "C:\n",
    "\n",
    "I:\n",
    "The estimate of the impact of treatment on the enrollment rates is 0.0313. \n",
    "\n",
    "As compared to the simple difference results that we observed earlier (2.2: 0.0388 and 2.3: 0.0352), it has reduced to 0.0313 (reduced by 19.33% as compared to 2.2, and by 11.08% as compared to 2.3) for the difference-in-difference estimator.\n",
    "\n",
    "II:\n",
    "The counterfactual assumption underlying this estimate is that in the absence of treatment, the difference between the 'treatment' and the 'control' group would have been constant over time (between 1997 and 1998). This is referred to as the 'parallel trend' assumption. It means that the unobserved characteristics affecting the enrollment rates do not vary over time with treatment status."
   ]
  },
  {
   "cell_type": "markdown",
   "metadata": {
    "ein.tags": "worksheet-0",
    "slideshow": {
     "slide_type": "-"
    }
   },
   "source": [
    "### 2.5 Difference-in-Difference, version 2 (regression)\n",
    "\n",
    "Now use a regression specification to estimate the average treatment\n",
    "effects of the program in a difference-in-differences\n",
    "framework. Include at least 5 control variables.\n",
    "\n",
    "* What is your estimate of the impact of Progresa? Be very specific in\n",
    "  interpreting your coefficients and standard errors, and make sure to\n",
    "  specify exactly what units you are measuring and estimating.\n",
    "\n",
    "* How do these estimates of the treatment effect compare to the\n",
    "  estimates based on the simple difference?\n",
    "\n",
    "* How do these estimates compare to the difference-in-difference\n",
    "  estimates from 2.4 above? What accounts for these differences?\n",
    "\n",
    "* What is the counterfactual assumption underlying this regression? "
   ]
  },
  {
   "cell_type": "code",
   "execution_count": 10,
   "metadata": {
    "autoscroll": false,
    "ein.tags": "worksheet-0",
    "slideshow": {
     "slide_type": "-"
    }
   },
   "outputs": [
    {
     "data": {
      "text/html": [
       "<table class=\"simpletable\">\n",
       "<caption>OLS Regression Results</caption>\n",
       "<tr>\n",
       "  <th>Dep. Variable:</th>           <td>sc</td>        <th>  R-squared:         </th> <td>   0.279</td> \n",
       "</tr>\n",
       "<tr>\n",
       "  <th>Model:</th>                   <td>OLS</td>       <th>  Adj. R-squared:    </th> <td>   0.278</td> \n",
       "</tr>\n",
       "<tr>\n",
       "  <th>Method:</th>             <td>Least Squares</td>  <th>  F-statistic:       </th> <td>   2488.</td> \n",
       "</tr>\n",
       "<tr>\n",
       "  <th>Date:</th>             <td>Mon, 11 Jun 2018</td> <th>  Prob (F-statistic):</th>  <td>  0.00</td>  \n",
       "</tr>\n",
       "<tr>\n",
       "  <th>Time:</th>                 <td>15:50:07</td>     <th>  Log-Likelihood:    </th> <td> -16656.</td> \n",
       "</tr>\n",
       "<tr>\n",
       "  <th>No. Observations:</th>      <td> 58013</td>      <th>  AIC:               </th> <td>3.333e+04</td>\n",
       "</tr>\n",
       "<tr>\n",
       "  <th>Df Residuals:</th>          <td> 58003</td>      <th>  BIC:               </th> <td>3.342e+04</td>\n",
       "</tr>\n",
       "<tr>\n",
       "  <th>Df Model:</th>              <td>     9</td>      <th>                     </th>     <td> </td>    \n",
       "</tr>\n",
       "<tr>\n",
       "  <th>Covariance Type:</th>      <td>nonrobust</td>    <th>                     </th>     <td> </td>    \n",
       "</tr>\n",
       "</table>\n",
       "<table class=\"simpletable\">\n",
       "<tr>\n",
       "              <td></td>                 <th>coef</th>     <th>std err</th>      <th>t</th>      <th>P>|t|</th>  <th>[0.025</th>    <th>0.975]</th>  \n",
       "</tr>\n",
       "<tr>\n",
       "  <th>Intercept</th>                 <td>   -1.2257</td> <td>    0.425</td> <td>   -2.881</td> <td> 0.004</td> <td>   -2.059</td> <td>   -0.392</td>\n",
       "</tr>\n",
       "<tr>\n",
       "  <th>C(progresa)[T.basal]</th>      <td>   -2.9893</td> <td>    0.539</td> <td>   -5.546</td> <td> 0.000</td> <td>   -4.046</td> <td>   -1.933</td>\n",
       "</tr>\n",
       "<tr>\n",
       "  <th>C(sex)[T.1.0]</th>             <td>    0.0338</td> <td>    0.003</td> <td>   12.625</td> <td> 0.000</td> <td>    0.029</td> <td>    0.039</td>\n",
       "</tr>\n",
       "<tr>\n",
       "  <th>C(indig)[T.1.0]</th>           <td>    0.0499</td> <td>    0.003</td> <td>   17.363</td> <td> 0.000</td> <td>    0.044</td> <td>    0.055</td>\n",
       "</tr>\n",
       "<tr>\n",
       "  <th>year</th>                      <td>    0.0278</td> <td>    0.004</td> <td>    6.370</td> <td> 0.000</td> <td>    0.019</td> <td>    0.036</td>\n",
       "</tr>\n",
       "<tr>\n",
       "  <th>C(progresa)[T.basal]:year</th> <td>    0.0309</td> <td>    0.006</td> <td>    5.582</td> <td> 0.000</td> <td>    0.020</td> <td>    0.042</td>\n",
       "</tr>\n",
       "<tr>\n",
       "  <th>age</th>                       <td>   -0.0655</td> <td>    0.000</td> <td> -143.552</td> <td> 0.000</td> <td>   -0.066</td> <td>   -0.065</td>\n",
       "</tr>\n",
       "<tr>\n",
       "  <th>dist_sec</th>                  <td>   -0.0108</td> <td>    0.001</td> <td>  -17.378</td> <td> 0.000</td> <td>   -0.012</td> <td>   -0.010</td>\n",
       "</tr>\n",
       "<tr>\n",
       "  <th>hohedu</th>                    <td>    0.0075</td> <td>    0.001</td> <td>   13.841</td> <td> 0.000</td> <td>    0.006</td> <td>    0.009</td>\n",
       "</tr>\n",
       "<tr>\n",
       "  <th>welfare_index</th>             <td> 3.555e-05</td> <td> 1.19e-05</td> <td>    2.986</td> <td> 0.003</td> <td> 1.22e-05</td> <td> 5.89e-05</td>\n",
       "</tr>\n",
       "</table>\n",
       "<table class=\"simpletable\">\n",
       "<tr>\n",
       "  <th>Omnibus:</th>       <td>5532.977</td> <th>  Durbin-Watson:     </th> <td>   1.483</td>\n",
       "</tr>\n",
       "<tr>\n",
       "  <th>Prob(Omnibus):</th>  <td> 0.000</td>  <th>  Jarque-Bera (JB):  </th> <td>7289.118</td>\n",
       "</tr>\n",
       "<tr>\n",
       "  <th>Skew:</th>           <td>-0.866</td>  <th>  Prob(JB):          </th> <td>    0.00</td>\n",
       "</tr>\n",
       "<tr>\n",
       "  <th>Kurtosis:</th>       <td> 3.116</td>  <th>  Cond. No.          </th> <td>3.29e+05</td>\n",
       "</tr>\n",
       "</table>"
      ],
      "text/plain": [
       "<class 'statsmodels.iolib.summary.Summary'>\n",
       "\"\"\"\n",
       "                            OLS Regression Results                            \n",
       "==============================================================================\n",
       "Dep. Variable:                     sc   R-squared:                       0.279\n",
       "Model:                            OLS   Adj. R-squared:                  0.278\n",
       "Method:                 Least Squares   F-statistic:                     2488.\n",
       "Date:                Mon, 11 Jun 2018   Prob (F-statistic):               0.00\n",
       "Time:                        15:50:07   Log-Likelihood:                -16656.\n",
       "No. Observations:               58013   AIC:                         3.333e+04\n",
       "Df Residuals:                   58003   BIC:                         3.342e+04\n",
       "Df Model:                           9                                         \n",
       "Covariance Type:            nonrobust                                         \n",
       "=============================================================================================\n",
       "                                coef    std err          t      P>|t|      [0.025      0.975]\n",
       "---------------------------------------------------------------------------------------------\n",
       "Intercept                    -1.2257      0.425     -2.881      0.004      -2.059      -0.392\n",
       "C(progresa)[T.basal]         -2.9893      0.539     -5.546      0.000      -4.046      -1.933\n",
       "C(sex)[T.1.0]                 0.0338      0.003     12.625      0.000       0.029       0.039\n",
       "C(indig)[T.1.0]               0.0499      0.003     17.363      0.000       0.044       0.055\n",
       "year                          0.0278      0.004      6.370      0.000       0.019       0.036\n",
       "C(progresa)[T.basal]:year     0.0309      0.006      5.582      0.000       0.020       0.042\n",
       "age                          -0.0655      0.000   -143.552      0.000      -0.066      -0.065\n",
       "dist_sec                     -0.0108      0.001    -17.378      0.000      -0.012      -0.010\n",
       "hohedu                        0.0075      0.001     13.841      0.000       0.006       0.009\n",
       "welfare_index              3.555e-05   1.19e-05      2.986      0.003    1.22e-05    5.89e-05\n",
       "==============================================================================\n",
       "Omnibus:                     5532.977   Durbin-Watson:                   1.483\n",
       "Prob(Omnibus):                  0.000   Jarque-Bera (JB):             7289.118\n",
       "Skew:                          -0.866   Prob(JB):                         0.00\n",
       "Kurtosis:                       3.116   Cond. No.                     3.29e+05\n",
       "==============================================================================\n",
       "\n",
       "Warnings:\n",
       "[1] Standard Errors assume that the covariance matrix of the errors is correctly specified.\n",
       "[2] The condition number is large, 3.29e+05. This might indicate that there are\n",
       "strong multicollinearity or other numerical problems.\n",
       "\"\"\""
      ]
     },
     "execution_count": 10,
     "metadata": {},
     "output_type": "execute_result"
    }
   ],
   "source": [
    "# Create the difference-in-difference model for enrollment rates of the poor\n",
    "data_progresa_poor = data_progresa[data_progresa['poor'] == 'pobre']\n",
    "diff_in_diff = smf.ols(formula = 'sc ~ C(progresa) * year + age + dist_sec + C(sex) + hohedu + welfare_index + C(indig)', data = data_progresa_poor)\n",
    "diff_in_diff.fit().summary()"
   ]
  },
  {
   "cell_type": "markdown",
   "metadata": {
    "ein.tags": "worksheet-0",
    "slideshow": {
     "slide_type": "-"
    }
   },
   "source": [
    "A: We observe that the impact of 'progresa' between 1997 and 1998 is given by the coefficient of C(progresa)[T.basal]:C(year)[T.98], 0.0309 (which is statistically significant as the t-statistic is 5.582 and p-value is below 0.05). This suggests that the difference in the enrollment rates among poor households between the 'treatment' and 'control' villages from 1997 and 1998 (difference-in-difference) is given by 0.0309 with a standard error of 0.006. \n",
    "\n",
    "B: We see that the impact of treatment reduces from 0.0352 (Answer 2.3) to 0.0309 (12.22%) for the difference-in-difference (regression) including a set of relevant control variables.\n",
    "\n",
    "C: We see that the impact of treatment reduces from 0.0313 to 0.0309 (1.28%) upon including a set of relevant control variables if we compare with 2.4. The observed decrease in the value of treatment effect is explained by the effect that control variables have on the enrollment rates.\n",
    "\n",
    "D: The counterfactual assumption underlying this estimate is that in the absence of treatment, the difference between the 'treatment' and the 'control' group would have been constant over time (between 1997 and 1998), dependent on the set of included control variables. It means that the unobserved characteristics affecting the enrollment rates do not vary over time with treatment status."
   ]
  },
  {
   "cell_type": "markdown",
   "metadata": {
    "ein.tags": "worksheet-0",
    "slideshow": {
     "slide_type": "-"
    }
   },
   "source": [
    "### 2.6 Summary\n",
    "\n",
    "* Based on all the analysis you have undertaken to date, do you\n",
    "  believe that Progresa had a causal impact on the enrollment rates of\n",
    "  poor households in Mexico?  Explain by referring to the methods and\n",
    "  results above."
   ]
  },
  {
   "cell_type": "markdown",
   "metadata": {
    "ein.tags": "worksheet-0",
    "slideshow": {
     "slide_type": "-"
    }
   },
   "source": [
    "Based on the analysis, we observe that Progresa had a causal impact on the enrollment rates of poor households in Mexico. This is confirmed by the statistically significant (t-statistic: 5.582, p-value: 0.000) coefficient (0.0309) of C(progresa)[T.basal]:year in the difference-in-difference regression analysis. This assumes that the enrollment rates from 1997 to 1998 in the 'treatment' and 'control' villages are not affected by the impact of any unaccounted characteristic ('progresa' is unrelated to any disturbance)."
   ]
  }
 ],
 "metadata": {
  "kernelspec": {
   "display_name": "Python 3",
   "language": "python",
   "name": "python3"
  },
  "language_info": {
   "codemirror_mode": {
    "name": "ipython",
    "version": 3
   },
   "file_extension": ".py",
   "mimetype": "text/x-python",
   "name": "python",
   "nbconvert_exporter": "python",
   "pygments_lexer": "ipython3",
   "version": "3.6.4"
  },
  "name": "ps03_progresa.ipynb"
 },
 "nbformat": 4,
 "nbformat_minor": 1
}
